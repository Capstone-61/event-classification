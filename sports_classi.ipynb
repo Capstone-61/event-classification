{
 "cells": [
  {
   "cell_type": "code",
   "execution_count": 1,
   "id": "2d3c7c87-64f3-404a-9d24-a7b72e1c7a46",
   "metadata": {},
   "outputs": [
    {
     "name": "stderr",
     "output_type": "stream",
     "text": [
      "C:\\Users\\kevin\\AppData\\Roaming\\Python\\Python311\\site-packages\\tqdm\\auto.py:21: TqdmWarning: IProgress not found. Please update jupyter and ipywidgets. See https://ipywidgets.readthedocs.io/en/stable/user_install.html\n",
      "  from .autonotebook import tqdm as notebook_tqdm\n"
     ]
    }
   ],
   "source": [
    "import os\n",
    "import shutil\n",
    "\n",
    "import pandas as pd\n",
    "import tensorflow as tf\n",
    "import torch\n",
    "import numpy as np\n",
    "from transformers import BertTokenizer\n",
    "import matplotlib.pyplot as plt"
   ]
  },
  {
   "cell_type": "code",
   "execution_count": 2,
   "id": "cecebd06-5013-4e65-89a8-1049e6ebfa7e",
   "metadata": {},
   "outputs": [
    {
     "name": "stderr",
     "output_type": "stream",
     "text": [
      "C:\\Users\\kevin\\AppData\\Local\\Temp\\ipykernel_21484\\2444995808.py:1: DtypeWarning: Columns (2) have mixed types. Specify dtype option on import or set low_memory=False.\n",
      "  df = pd.read_csv(\"combined_sports.csv\")\n"
     ]
    }
   ],
   "source": [
    "df = pd.read_csv(\"combined_sports.csv\")"
   ]
  },
  {
   "cell_type": "code",
   "execution_count": 3,
   "id": "55d60414-8055-4d2b-9960-c364e00aeb59",
   "metadata": {},
   "outputs": [
    {
     "data": {
      "text/html": [
       "<div>\n",
       "<style scoped>\n",
       "    .dataframe tbody tr th:only-of-type {\n",
       "        vertical-align: middle;\n",
       "    }\n",
       "\n",
       "    .dataframe tbody tr th {\n",
       "        vertical-align: top;\n",
       "    }\n",
       "\n",
       "    .dataframe thead th {\n",
       "        text-align: right;\n",
       "    }\n",
       "</style>\n",
       "<table border=\"1\" class=\"dataframe\">\n",
       "  <thead>\n",
       "    <tr style=\"text-align: right;\">\n",
       "      <th></th>\n",
       "      <th>Text</th>\n",
       "      <th>player</th>\n",
       "      <th>event</th>\n",
       "      <th>sport</th>\n",
       "    </tr>\n",
       "  </thead>\n",
       "  <tbody>\n",
       "    <tr>\n",
       "      <th>0</th>\n",
       "      <td>Attempt missed. Mladen Petric (Hamburg) left f...</td>\n",
       "      <td>mladen petric</td>\n",
       "      <td>1</td>\n",
       "      <td>football</td>\n",
       "    </tr>\n",
       "    <tr>\n",
       "      <th>1</th>\n",
       "      <td>Corner,  Borussia Dortmund. Conceded by Dennis...</td>\n",
       "      <td>dennis diekmeier</td>\n",
       "      <td>2</td>\n",
       "      <td>football</td>\n",
       "    </tr>\n",
       "    <tr>\n",
       "      <th>2</th>\n",
       "      <td>Corner,  Borussia Dortmund. Conceded by Heiko ...</td>\n",
       "      <td>heiko westermann</td>\n",
       "      <td>2</td>\n",
       "      <td>football</td>\n",
       "    </tr>\n",
       "    <tr>\n",
       "      <th>3</th>\n",
       "      <td>Foul by Sven Bender (Borussia Dortmund).</td>\n",
       "      <td>sven bender</td>\n",
       "      <td>3</td>\n",
       "      <td>football</td>\n",
       "    </tr>\n",
       "    <tr>\n",
       "      <th>4</th>\n",
       "      <td>Gokhan Tore (Hamburg) wins a free kick in the ...</td>\n",
       "      <td>gokhan tore</td>\n",
       "      <td>8</td>\n",
       "      <td>football</td>\n",
       "    </tr>\n",
       "  </tbody>\n",
       "</table>\n",
       "</div>"
      ],
      "text/plain": [
       "                                                Text            player event  \\\n",
       "0  Attempt missed. Mladen Petric (Hamburg) left f...     mladen petric     1   \n",
       "1  Corner,  Borussia Dortmund. Conceded by Dennis...  dennis diekmeier     2   \n",
       "2  Corner,  Borussia Dortmund. Conceded by Heiko ...  heiko westermann     2   \n",
       "3           Foul by Sven Bender (Borussia Dortmund).       sven bender     3   \n",
       "4  Gokhan Tore (Hamburg) wins a free kick in the ...       gokhan tore     8   \n",
       "\n",
       "      sport  \n",
       "0  football  \n",
       "1  football  \n",
       "2  football  \n",
       "3  football  \n",
       "4  football  "
      ]
     },
     "execution_count": 3,
     "metadata": {},
     "output_type": "execute_result"
    }
   ],
   "source": [
    "df.head()"
   ]
  },
  {
   "cell_type": "code",
   "execution_count": 4,
   "id": "6fca04b5-abb8-44e5-b8a4-f2c582e40179",
   "metadata": {},
   "outputs": [
    {
     "data": {
      "text/plain": [
       "Text     0\n",
       "sport    0\n",
       "dtype: int64"
      ]
     },
     "execution_count": 4,
     "metadata": {},
     "output_type": "execute_result"
    }
   ],
   "source": [
    "df_train = df[[\"Text\", \"sport\"]]\n",
    "df_train.isna().sum()"
   ]
  },
  {
   "cell_type": "code",
   "execution_count": 5,
   "id": "73cf6c9b-53af-4edb-9d4d-45b6182c452a",
   "metadata": {},
   "outputs": [],
   "source": [
    "import pandas as pd\n",
    "from sklearn.model_selection import StratifiedShuffleSplit\n",
    "from sklearn.preprocessing import LabelEncoder\n",
    "\n",
    "# Sample DataFrame\n",
    "# df = pd.read_csv('your_dataset.csv')\n",
    "\n",
    "# Step 1: Label encode the output column (sport)\n",
    "label_encoder = LabelEncoder()\n",
    "df['sport'] = label_encoder.fit_transform(df['sport'])\n",
    "\n",
    "# Step 2: Use StratifiedShuffleSplit to split df into train, validation, and test sets while maintaining the same ratio of cricket and football\n",
    "split = StratifiedShuffleSplit(n_splits=1, test_size=0.2, random_state=42)\n",
    "\n",
    "# First, create a stratified split into df_train and df_temp (which will be split further into val and test)\n",
    "for train_idx, temp_idx in split.split(df, df['sport']):\n",
    "    df_train = df.iloc[train_idx]\n",
    "    df_temp = df.iloc[temp_idx]\n",
    "\n",
    "# Now, split df_temp into df_val and df_test, maintaining the same ratio\n",
    "split = StratifiedShuffleSplit(n_splits=1, test_size=0.5, random_state=42)\n",
    "\n",
    "for val_idx, test_idx in split.split(df_temp, df_temp['sport']):\n",
    "    df_val = df_temp.iloc[val_idx]\n",
    "    df_test = df_temp.iloc[test_idx]\n",
    "\n",
    "# Now you have df_train, df_val, and df_test with the same ratio of cricket to football."
   ]
  },
  {
   "cell_type": "code",
   "execution_count": 6,
   "id": "d7b33cca-f8fd-4961-969e-af73e957f106",
   "metadata": {},
   "outputs": [],
   "source": [
    "model_name = \"bert-base-uncased\"\n",
    "max_length = 512"
   ]
  },
  {
   "cell_type": "code",
   "execution_count": 7,
   "id": "c8895214-98b2-4d58-aa4b-2dcb95dbb4d9",
   "metadata": {},
   "outputs": [
    {
     "name": "stderr",
     "output_type": "stream",
     "text": [
      "C:\\Users\\kevin\\AppData\\Roaming\\Python\\Python311\\site-packages\\transformers\\tokenization_utils_base.py:1601: FutureWarning: `clean_up_tokenization_spaces` was not set. It will be set to `True` by default. This behavior will be depracted in transformers v4.45, and will be then set to `False` by default. For more details check this issue: https://github.com/huggingface/transformers/issues/31884\n",
      "  warnings.warn(\n",
      "Some weights of BertForSequenceClassification were not initialized from the model checkpoint at bert-base-uncased and are newly initialized: ['classifier.bias', 'classifier.weight']\n",
      "You should probably TRAIN this model on a down-stream task to be able to use it for predictions and inference.\n"
     ]
    }
   ],
   "source": [
    "from transformers import AutoTokenizer, AutoModelForSequenceClassification\n",
    "tokenizer = AutoTokenizer.from_pretrained(model_name)\n",
    "model = AutoModelForSequenceClassification.from_pretrained(model_name, num_labels=2)"
   ]
  },
  {
   "cell_type": "code",
   "execution_count": 8,
   "id": "044e3beb-0abc-4e08-9de0-4a8c749bda9b",
   "metadata": {},
   "outputs": [
    {
     "name": "stderr",
     "output_type": "stream",
     "text": [
      "C:\\Users\\kevin\\AppData\\Local\\Temp\\ipykernel_21484\\1242695915.py:3: SettingWithCopyWarning: \n",
      "A value is trying to be set on a copy of a slice from a DataFrame.\n",
      "Try using .loc[row_indexer,col_indexer] = value instead\n",
      "\n",
      "See the caveats in the documentation: https://pandas.pydata.org/pandas-docs/stable/user_guide/indexing.html#returning-a-view-versus-a-copy\n",
      "  df_train[\"label\"] = df_train[\"sport\"]\n"
     ]
    }
   ],
   "source": [
    "from datasets import Dataset\n",
    "\n",
    "df_train[\"label\"] = df_train[\"sport\"]\n",
    "train_dataset = Dataset.from_pandas(df_train[[\"Text\",\"label\"]])"
   ]
  },
  {
   "cell_type": "code",
   "execution_count": 9,
   "id": "9f66d8d4-9be7-4a83-b43a-7f38be410319",
   "metadata": {},
   "outputs": [],
   "source": [
    "train_dataset = train_dataset.remove_columns('__index_level_0__')"
   ]
  },
  {
   "cell_type": "code",
   "execution_count": 10,
   "id": "2448b4f7-5db4-4b74-9bfb-c0be8567428f",
   "metadata": {},
   "outputs": [
    {
     "name": "stderr",
     "output_type": "stream",
     "text": [
      "Parameter 'function'=<function <lambda> at 0x000002ACFE5F4860> of the transform datasets.arrow_dataset.Dataset._map_single couldn't be hashed properly, a random hash was used instead. Make sure your transforms and parameters are serializable with pickle or dill for the dataset fingerprinting and caching to work. If you reuse this transform, the caching mechanism will consider it to be different from the previous calls and recompute everything. This warning is only showed once. Subsequent hashing failures won't be showed.\n",
      "100%|████████████████████████████████████████████████████████████████████████████████| 763/763 [01:54<00:00,  6.69ba/s]\n"
     ]
    }
   ],
   "source": [
    "train_dataset = train_dataset.map(lambda e: tokenizer(e[\"Text\"], padding='max_length', truncation=True), batched=True)"
   ]
  },
  {
   "cell_type": "code",
   "execution_count": 11,
   "id": "6fe44a1a-2aba-4a80-8b14-8ab1f281c17e",
   "metadata": {},
   "outputs": [],
   "source": [
    "from datasets import load_metric\n",
    "\n",
    "metric = load_metric(\"accuracy\")\n",
    "\n",
    "def compute_metrics(eval_pred):\n",
    "    predictions, labels = eval_pred\n",
    "    predictions = np.argmax(predictions, axis=1)\n",
    "    return metric.compute(predictions=predictions, references=labels)"
   ]
  },
  {
   "cell_type": "code",
   "execution_count": 23,
   "id": "86d229df-81ad-4e78-a5e5-368859a82453",
   "metadata": {},
   "outputs": [
    {
     "name": "stderr",
     "output_type": "stream",
     "text": [
      "C:\\Users\\kevin\\AppData\\Roaming\\Python\\Python311\\site-packages\\transformers\\training_args.py:1525: FutureWarning: `evaluation_strategy` is deprecated and will be removed in version 4.46 of 🤗 Transformers. Use `eval_strategy` instead\n",
      "  warnings.warn(\n"
     ]
    }
   ],
   "source": [
    "from transformers import Trainer, TrainingArguments\n",
    "\n",
    "training_args = TrainingArguments(\n",
    "    output_dir=\"./bert_results\",                 # Directory where checkpoints will be saved\n",
    "    num_train_epochs=2,                          # Number of training epochs\n",
    "    per_device_eval_batch_size=16,               # Batch size for evaluation\n",
    "    evaluation_strategy='epoch',                 # Evaluate at the end of every epoch\n",
    "    logging_dir='./bert_logs',                   # Directory for logging\n",
    "    logging_steps=10,                            # Log every 10 steps\n",
    "    save_steps=5000,                             # Save checkpoint every 5000 steps\n",
    "    save_total_limit=2                           # Keep only the last 2 checkpoints (optional)\n",
    ")\n",
    "\n",
    "trainer = Trainer(\n",
    "    model=model,                                 # The model being trained\n",
    "    args=training_args,                          # Training arguments\n",
    "    train_dataset=train_dataset,                 # Training dataset\n",
    "    eval_dataset=train_dataset,                  # Evaluation dataset (for demo, using train_dataset)\n",
    "    compute_metrics=compute_metrics              # Function to compute metrics during evaluation\n",
    ")\n"
   ]
  },
  {
   "cell_type": "code",
   "execution_count": 24,
   "id": "70abc7fd-3d93-4861-8cb1-c6474b0aca30",
   "metadata": {},
   "outputs": [
    {
     "name": "stderr",
     "output_type": "stream",
     "text": [
      "C:\\Users\\kevin\\AppData\\Roaming\\Python\\Python311\\site-packages\\transformers\\trainer.py:3098: FutureWarning: You are using `torch.load` with `weights_only=False` (the current default value), which uses the default pickle module implicitly. It is possible to construct malicious pickle data which will execute arbitrary code during unpickling (See https://github.com/pytorch/pytorch/blob/main/SECURITY.md#untrusted-models for more details). In a future release, the default value for `weights_only` will be flipped to `True`. This limits the functions that could be executed during unpickling. Arbitrary objects will no longer be allowed to be loaded via this mode unless they are explicitly allowlisted by the user via `torch.serialization.add_safe_globals`. We recommend you start setting `weights_only=True` for any use case where you don't have full control of the loaded file. Please open an issue on GitHub for any issues related to this experimental feature.\n",
      "  torch.load(os.path.join(checkpoint, OPTIMIZER_NAME), map_location=map_location)\n",
      "C:\\Users\\kevin\\AppData\\Roaming\\Python\\Python311\\site-packages\\transformers\\trainer.py:2833: FutureWarning: You are using `torch.load` with `weights_only=False` (the current default value), which uses the default pickle module implicitly. It is possible to construct malicious pickle data which will execute arbitrary code during unpickling (See https://github.com/pytorch/pytorch/blob/main/SECURITY.md#untrusted-models for more details). In a future release, the default value for `weights_only` will be flipped to `True`. This limits the functions that could be executed during unpickling. Arbitrary objects will no longer be allowed to be loaded via this mode unless they are explicitly allowlisted by the user via `torch.serialization.add_safe_globals`. We recommend you start setting `weights_only=True` for any use case where you don't have full control of the loaded file. Please open an issue on GitHub for any issues related to this experimental feature.\n",
      "  checkpoint_rng_state = torch.load(rng_file)\n"
     ]
    },
    {
     "data": {
      "text/html": [
       "\n",
       "    <div>\n",
       "      \n",
       "      <progress value='190518' max='190518' style='width:300px; height:20px; vertical-align: middle;'></progress>\n",
       "      [190518/190518 12:22:08, Epoch 2/2]\n",
       "    </div>\n",
       "    <table border=\"1\" class=\"dataframe\">\n",
       "  <thead>\n",
       " <tr style=\"text-align: left;\">\n",
       "      <th>Epoch</th>\n",
       "      <th>Training Loss</th>\n",
       "      <th>Validation Loss</th>\n",
       "      <th>Accuracy</th>\n",
       "    </tr>\n",
       "  </thead>\n",
       "  <tbody>\n",
       "    <tr>\n",
       "      <td>2</td>\n",
       "      <td>0.000000</td>\n",
       "      <td>0.000000</td>\n",
       "      <td>1.000000</td>\n",
       "    </tr>\n",
       "  </tbody>\n",
       "</table><p>"
      ],
      "text/plain": [
       "<IPython.core.display.HTML object>"
      ]
     },
     "metadata": {},
     "output_type": "display_data"
    },
    {
     "data": {
      "text/plain": [
       "TrainOutput(global_step=190518, training_loss=0.0, metrics={'train_runtime': 44529.1317, 'train_samples_per_second': 34.228, 'train_steps_per_second': 4.279, 'total_flos': 4.010159790279475e+17, 'train_loss': 0.0, 'epoch': 2.0})"
      ]
     },
     "execution_count": 24,
     "metadata": {},
     "output_type": "execute_result"
    }
   ],
   "source": [
    "trainer.train(resume_from_checkpoint=\"./bert_results/checkpoint-150000\")"
   ]
  },
  {
   "cell_type": "code",
   "execution_count": 28,
   "id": "1997ead6-9e55-4cf2-85d9-0cd866b6fcf8",
   "metadata": {},
   "outputs": [
    {
     "name": "stderr",
     "output_type": "stream",
     "text": [
      "C:\\Users\\kevin\\AppData\\Local\\Temp\\ipykernel_21484\\2666176314.py:3: SettingWithCopyWarning: \n",
      "A value is trying to be set on a copy of a slice from a DataFrame.\n",
      "Try using .loc[row_indexer,col_indexer] = value instead\n",
      "\n",
      "See the caveats in the documentation: https://pandas.pydata.org/pandas-docs/stable/user_guide/indexing.html#returning-a-view-versus-a-copy\n",
      "  df_test[\"label\"] = df_test[\"sport\"]\n"
     ]
    }
   ],
   "source": [
    "from datasets import Dataset\n",
    "\n",
    "df_test[\"label\"] = df_test[\"sport\"]\n",
    "test_dataset = Dataset.from_pandas(df_test[[\"Text\",\"label\"]])"
   ]
  },
  {
   "cell_type": "code",
   "execution_count": 29,
   "id": "f1be51ed-10af-4f41-8f0a-1477a66bae2b",
   "metadata": {},
   "outputs": [],
   "source": [
    "test_dataset = test_dataset.remove_columns('__index_level_0__')"
   ]
  },
  {
   "cell_type": "code",
   "execution_count": 31,
   "id": "8c2b436e-4a9d-416f-873e-654c70c1b1c9",
   "metadata": {},
   "outputs": [
    {
     "name": "stderr",
     "output_type": "stream",
     "text": [
      "100%|██████████████████████████████████████████████████████████████████████████████████| 96/96 [00:16<00:00,  5.70ba/s]\n"
     ]
    }
   ],
   "source": [
    "test_dataset = test_dataset.map(lambda e: tokenizer(e[\"Text\"], padding='max_length', truncation=True), batched=True)"
   ]
  },
  {
   "cell_type": "code",
   "execution_count": 32,
   "id": "e7e57043-ebf6-471d-b9b8-210283bcc5c1",
   "metadata": {},
   "outputs": [
    {
     "data": {
      "text/html": [],
      "text/plain": [
       "<IPython.core.display.HTML object>"
      ]
     },
     "metadata": {},
     "output_type": "display_data"
    }
   ],
   "source": [
    "pred = trainer.predict(test_dataset)"
   ]
  },
  {
   "cell_type": "code",
   "execution_count": 33,
   "id": "91aa57dc-8714-42d8-a046-86775c73a3c2",
   "metadata": {},
   "outputs": [
    {
     "name": "stderr",
     "output_type": "stream",
     "text": [
      "C:\\Users\\kevin\\AppData\\Local\\Temp\\ipykernel_21484\\2430006148.py:1: SettingWithCopyWarning: \n",
      "A value is trying to be set on a copy of a slice from a DataFrame.\n",
      "Try using .loc[row_indexer,col_indexer] = value instead\n",
      "\n",
      "See the caveats in the documentation: https://pandas.pydata.org/pandas-docs/stable/user_guide/indexing.html#returning-a-view-versus-a-copy\n",
      "  df_test[\"pred\"] = pred[1]\n"
     ]
    }
   ],
   "source": [
    "df_test[\"pred\"] = pred[1]"
   ]
  },
  {
   "cell_type": "code",
   "execution_count": 34,
   "id": "a69dab64-78e8-4d9d-afed-36b463fbcc88",
   "metadata": {},
   "outputs": [
    {
     "data": {
      "text/html": [
       "<div>\n",
       "<style scoped>\n",
       "    .dataframe tbody tr th:only-of-type {\n",
       "        vertical-align: middle;\n",
       "    }\n",
       "\n",
       "    .dataframe tbody tr th {\n",
       "        vertical-align: top;\n",
       "    }\n",
       "\n",
       "    .dataframe thead th {\n",
       "        text-align: right;\n",
       "    }\n",
       "</style>\n",
       "<table border=\"1\" class=\"dataframe\">\n",
       "  <thead>\n",
       "    <tr style=\"text-align: right;\">\n",
       "      <th></th>\n",
       "      <th>Text</th>\n",
       "      <th>player</th>\n",
       "      <th>event</th>\n",
       "      <th>sport</th>\n",
       "      <th>label</th>\n",
       "      <th>pred</th>\n",
       "    </tr>\n",
       "  </thead>\n",
       "  <tbody>\n",
       "    <tr>\n",
       "      <th>218914</th>\n",
       "      <td>Walter Gargano (Inter Milan) wins a free kick ...</td>\n",
       "      <td>walter gargano</td>\n",
       "      <td>8</td>\n",
       "      <td>1</td>\n",
       "      <td>1</td>\n",
       "      <td>1</td>\n",
       "    </tr>\n",
       "    <tr>\n",
       "      <th>881811</th>\n",
       "      <td>Foul by Daniele Baselli (Torino).</td>\n",
       "      <td>daniele baselli</td>\n",
       "      <td>3</td>\n",
       "      <td>1</td>\n",
       "      <td>1</td>\n",
       "      <td>1</td>\n",
       "    </tr>\n",
       "    <tr>\n",
       "      <th>544853</th>\n",
       "      <td>Booking      Lee Cattermole (Sunderland) is sh...</td>\n",
       "      <td>lee cattermole</td>\n",
       "      <td>4</td>\n",
       "      <td>1</td>\n",
       "      <td>1</td>\n",
       "      <td>1</td>\n",
       "    </tr>\n",
       "    <tr>\n",
       "      <th>290774</th>\n",
       "      <td>Jorge Molina (Real Betis) wins a free kick in ...</td>\n",
       "      <td>jorge molina</td>\n",
       "      <td>8</td>\n",
       "      <td>1</td>\n",
       "      <td>1</td>\n",
       "      <td>1</td>\n",
       "    </tr>\n",
       "    <tr>\n",
       "      <th>192269</th>\n",
       "      <td>Fernando Llorente (Athletic Bilbao) wins a fre...</td>\n",
       "      <td>fernando llorente</td>\n",
       "      <td>8</td>\n",
       "      <td>1</td>\n",
       "      <td>1</td>\n",
       "      <td>1</td>\n",
       "    </tr>\n",
       "  </tbody>\n",
       "</table>\n",
       "</div>"
      ],
      "text/plain": [
       "                                                     Text             player  \\\n",
       "218914  Walter Gargano (Inter Milan) wins a free kick ...     walter gargano   \n",
       "881811                  Foul by Daniele Baselli (Torino).    daniele baselli   \n",
       "544853  Booking      Lee Cattermole (Sunderland) is sh...     lee cattermole   \n",
       "290774  Jorge Molina (Real Betis) wins a free kick in ...       jorge molina   \n",
       "192269  Fernando Llorente (Athletic Bilbao) wins a fre...  fernando llorente   \n",
       "\n",
       "       event  sport  label  pred  \n",
       "218914     8      1      1     1  \n",
       "881811     3      1      1     1  \n",
       "544853     4      1      1     1  \n",
       "290774     8      1      1     1  \n",
       "192269     8      1      1     1  "
      ]
     },
     "execution_count": 34,
     "metadata": {},
     "output_type": "execute_result"
    }
   ],
   "source": [
    "df_test.head()"
   ]
  },
  {
   "cell_type": "code",
   "execution_count": 35,
   "id": "f6303f68-01fa-4917-8235-e37cafe50a77",
   "metadata": {},
   "outputs": [],
   "source": [
    "y_true_decoded = label_encoder.inverse_transform(df_test['label'])\n",
    "y_pred_decoded = label_encoder.inverse_transform(df_test['pred'])"
   ]
  },
  {
   "cell_type": "code",
   "execution_count": 37,
   "id": "6c87c210-cc6c-41c1-b397-e4033b4cb262",
   "metadata": {},
   "outputs": [
    {
     "data": {
      "image/png": "[encoded data removed]",
      "text/plain": [
       "<Figure size 800x600 with 2 Axes>"
      ]
     },
     "metadata": {},
     "output_type": "display_data"
    }
   ],
   "source": [
    "from sklearn.metrics import accuracy_score, confusion_matrix, classification_report\n",
    "import matplotlib.pyplot as plt\n",
    "import seaborn as sns\n",
    "conf_matrix = confusion_matrix(y_true_decoded, y_pred_decoded)\n",
    "\n",
    "# Plotting Confusion Matrix\n",
    "plt.figure(figsize=(8,6))\n",
    "sns.heatmap(conf_matrix, annot=True, fmt='d', cmap='Blues', xticklabels=label_encoder.classes_, yticklabels=label_encoder.classes_)\n",
    "plt.xlabel('Predicted Label')\n",
    "plt.ylabel('True Label')\n",
    "plt.title('Confusion Matrix')\n",
    "plt.show()"
   ]
  },
  {
   "cell_type": "code",
   "execution_count": null,
   "id": "f8c68fc0-5ecd-4f1b-a202-1e08e209129d",
   "metadata": {},
   "outputs": [],
   "source": []
  }
 ],
 "metadata": {
  "kernelspec": {
   "display_name": "Python 3 (ipykernel)",
   "language": "python",
   "name": "python3"
  },
  "language_info": {
   "codemirror_mode": {
    "name": "ipython",
    "version": 3
   },
   "file_extension": ".py",
   "mimetype": "text/x-python",
   "name": "python",
   "nbconvert_exporter": "python",
   "pygments_lexer": "ipython3",
   "version": "3.11.1"
  }
 },
 "nbformat": 4,
 "nbformat_minor": 5
}
